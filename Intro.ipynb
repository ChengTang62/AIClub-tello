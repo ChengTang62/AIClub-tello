{
 "cells": [
  {
   "cell_type": "markdown",
   "id": "9a081472",
   "metadata": {},
   "source": [
    "# Welcome to the Foundation of AI & Robotics"
   ]
  },
  {
   "cell_type": "markdown",
   "id": "b2c6481e",
   "metadata": {},
   "source": [
    "## Introduction"
   ]
  },
  {
   "cell_type": "markdown",
   "id": "00f193c3-ab47-4627-838b-f95d83f0aea2",
   "metadata": {},
   "source": [
    "#### Robots are made of **sensors** and **motors**\n",
    "#### ***Sensors*** allow them to perceive the world just like how we do\n",
    "#### ***Motors*** allow them to move the way we move"
   ]
  },
  {
   "cell_type": "markdown",
   "id": "cf0e4570-7a1c-4a01-b975-15b213ea6faa",
   "metadata": {},
   "source": [
    "<img src=\"robot_composition.png\" style=\"float: left;\" width=\"300\" height=\"200\">"
   ]
  },
  {
   "cell_type": "markdown",
   "id": "53815d5a-e38c-498f-b3fa-e11cda99a670",
   "metadata": {},
   "source": [
    "#### Robots can ***make their own decision*** based on how you ask it to, using sensor information"
   ]
  },
  {
   "cell_type": "markdown",
   "id": "be8bd529-f3b5-4fbb-87c1-b17565d63b6c",
   "metadata": {},
   "source": [
    "<img src=\"robot_thinking.png\" style=\"float: left;\" width=\"300\" height=\"200\">"
   ]
  },
  {
   "cell_type": "markdown",
   "id": "f7350269-b2c4-4aa8-a706-440159f0f4f2",
   "metadata": {},
   "source": [
    "## Pipeline"
   ]
  },
  {
   "cell_type": "markdown",
   "id": "f9f16e96-79a3-4656-960d-0c9c380c749a",
   "metadata": {},
   "source": [
    "### Perception"
   ]
  },
  {
   "cell_type": "markdown",
   "id": "b0c52e81-cb13-4654-9323-f7d400794803",
   "metadata": {},
   "source": [
    "This involves the robot's ability to interpret data from its environment. For drones, perception is primarily achieved through sensors like cameras, LIDAR, GPS, and IMUs (Inertial Measurement Units). These sensors help the drone understand its surroundings, detect obstacles, and navigate effectively."
   ]
  },
  {
   "cell_type": "markdown",
   "id": "3887d2ba-bf8e-4eea-a616-67710d8c2a8d",
   "metadata": {},
   "source": [
    "#### Vision"
   ]
  },
  {
   "cell_type": "markdown",
   "id": "9414b387-eaee-4598-af5d-1a6486440890",
   "metadata": {},
   "source": [
    "camera"
   ]
  },
  {
   "cell_type": "markdown",
   "id": "5572477b-b467-4cf0-9371-366ca0c5cfa6",
   "metadata": {},
   "source": [
    "images pixels"
   ]
  },
  {
   "cell_type": "markdown",
   "id": "73af5ff7-0188-4af5-a46a-f99400e2a84f",
   "metadata": {},
   "source": [
    "object detection\n",
    "how to use: train, dataset, \n",
    "example"
   ]
  },
  {
   "cell_type": "markdown",
   "id": "1df43fca-402e-4879-8b4c-e2641981225c",
   "metadata": {},
   "source": [
    "#### Audio"
   ]
  },
  {
   "cell_type": "markdown",
   "id": "09c54e0c-25f9-48ba-941b-4f9635bdfbdb",
   "metadata": {},
   "source": [
    "### Decision making"
   ]
  },
  {
   "cell_type": "markdown",
   "id": "207fa756-a427-41e0-83c2-aff2b4e0815e",
   "metadata": {},
   "source": [
    "This component relates to the processing of perceived data and deciding on a course of action. In drones, decision-making algorithms analyze sensor data to make real-time decisions, such as path planning, obstacle avoidance, and target tracking. This often involves complex algorithms and, increasingly, elements of artificial intelligence and machine learning."
   ]
  },
  {
   "cell_type": "markdown",
   "id": "797e489f-c497-40ad-b005-5c8fdc093588",
   "metadata": {},
   "source": [
    "### Control"
   ]
  },
  {
   "cell_type": "markdown",
   "id": "45c42816-c56b-4adc-ad5b-6251f8164fc8",
   "metadata": {},
   "source": [
    "Control refers to the execution of the decided actions. In drones, this means the precise manipulation of the rotors and other actuators to achieve the desired movement and behavior. Control systems maintain stability, adjust altitude, and guide the drone along a specific path."
   ]
  },
  {
   "cell_type": "code",
   "execution_count": null,
   "id": "74a1b3a3",
   "metadata": {},
   "outputs": [],
   "source": [
    "import time\n",
    "from drone_api import Drone, Camera, GPS\n",
    "\n",
    "# Initialize drone and its sensors\n",
    "drone = Drone()\n",
    "camera = Camera()\n",
    "gps = GPS()\n",
    "\n",
    "# Function for Perception - Analyze environment\n",
    "def analyze_environment():\n",
    "    image = camera.capture_image()\n",
    "    current_position = gps.get_coordinates()\n",
    "    # Analyze the image and GPS data (implement as needed)\n",
    "    # For instance, detect obstacles, identify target areas, etc.\n",
    "    return analysis_results\n",
    "\n",
    "# Function for Decision Making - Decide what to do based on analysis\n",
    "def make_decision(analysis):\n",
    "    # Implement decision-making logic\n",
    "    # For example, if obstacle detected, plan a new path\n",
    "    decision = \"move_forward\"  # Placeholder decision\n",
    "    return decision\n",
    "\n",
    "# Function for Control - Execute the decision\n",
    "def execute_control(decision):\n",
    "    if decision == \"move_forward\":\n",
    "        drone.move_forward()\n",
    "    elif decision == \"turn_left\":\n",
    "        drone.turn_left()\n",
    "    # Additional control commands as needed\n",
    "    # ...\n",
    "\n",
    "# Main loop for autonomous flight\n",
    "while True:\n",
    "    analysis = analyze_environment()\n",
    "    decision = make_decision(analysis)\n",
    "    execute_control(decision)\n",
    "    time.sleep(1)  # Delay for stability and safety\n",
    "\n",
    "    # Add any additional conditions to break the loop, e.g., upon completing a task\n"
   ]
  },
  {
   "cell_type": "markdown",
   "id": "cf8e3ac8",
   "metadata": {},
   "source": [
    "**<font face=\"Verdana\" style=\"font-size: large\" color=\"blue\">Execute the following cells and see what happens!</font>**"
   ]
  },
  {
   "cell_type": "markdown",
   "id": "1eaf7c24",
   "metadata": {},
   "source": [
    "### Import Required Dependencies"
   ]
  },
  {
   "cell_type": "code",
   "execution_count": null,
   "id": "c54a7d16",
   "metadata": {
    "scrolled": true
   },
   "outputs": [],
   "source": [
    "from djitellopy import Tello\n",
    "import cv2, math, time"
   ]
  },
  {
   "cell_type": "markdown",
   "id": "6143c844",
   "metadata": {},
   "source": [
    "## Drone Basic Movements Demos"
   ]
  },
  {
   "cell_type": "markdown",
   "id": "e07ca3d0-915e-4131-867c-6504ffdd9704",
   "metadata": {},
   "source": [
    "### Create a connection\n",
    "We are creating an instance of Tello object by calling \"Tello()\", \"tello\" is an instance of \"Tello\"\n",
    "<br>\n",
    "Connecting to our drone by calling \"tello.connect\""
   ]
  },
  {
   "cell_type": "code",
   "execution_count": null,
   "id": "b6c1fab7",
   "metadata": {},
   "outputs": [],
   "source": [
    "tello = Tello()\n",
    "tello.connect()"
   ]
  },
  {
   "cell_type": "markdown",
   "id": "cb4105cb-1331-421d-9901-441410ab9350",
   "metadata": {},
   "source": [
    "### Start Video Streaming"
   ]
  },
  {
   "cell_type": "code",
   "execution_count": null,
   "id": "09a4f9f1-ff92-4cda-ac7d-ba00ad8e2b5e",
   "metadata": {},
   "outputs": [],
   "source": [
    "tello.streamon()\n",
    "frame_read = tello.get_frame_read()"
   ]
  },
  {
   "cell_type": "markdown",
   "id": "097ba79d-5671-4ab5-bbfe-e1dfd95f7c4c",
   "metadata": {},
   "source": [
    "### Take off"
   ]
  },
  {
   "cell_type": "code",
   "execution_count": null,
   "id": "c3ebf29d-3696-4273-bfe5-9eabac1a96c5",
   "metadata": {},
   "outputs": [],
   "source": [
    "tello.takeoff()"
   ]
  },
  {
   "cell_type": "markdown",
   "id": "780da81b-e0d1-4e40-aa9b-375592548e58",
   "metadata": {},
   "source": [
    "### Move Forward, Backward, leftward, rightward\n",
    "The object tello has a method \"move_forward\""
   ]
  },
  {
   "cell_type": "code",
   "execution_count": null,
   "id": "1a617dd1-1614-411f-baf2-f15df9396be6",
   "metadata": {},
   "outputs": [],
   "source": [
    "tello.move_forward(30)"
   ]
  },
  {
   "cell_type": "code",
   "execution_count": null,
   "id": "ed56273a-3d15-4fb0-afed-1fea8575082a",
   "metadata": {},
   "outputs": [],
   "source": [
    "tello.move_back(30)"
   ]
  },
  {
   "cell_type": "code",
   "execution_count": null,
   "id": "1e19a550-773e-4d7c-aad9-c740d7aaa4ce",
   "metadata": {},
   "outputs": [],
   "source": [
    "tello.move_left(30)"
   ]
  },
  {
   "cell_type": "code",
   "execution_count": null,
   "id": "b350550a-341d-441c-b50c-1df3c459d60d",
   "metadata": {},
   "outputs": [],
   "source": [
    "tello.move_right(30)"
   ]
  },
  {
   "cell_type": "markdown",
   "id": "2f28093e-f205-4e2d-90be-23fb49051662",
   "metadata": {},
   "source": [
    "### Land"
   ]
  },
  {
   "cell_type": "code",
   "execution_count": null,
   "id": "ac49ce4c-a9fb-49ce-8bbf-1143e917bce7",
   "metadata": {},
   "outputs": [],
   "source": [
    "tello.land()"
   ]
  },
  {
   "cell_type": "markdown",
   "id": "44bb5f7f-252c-45dc-a4bc-1a12abf7331d",
   "metadata": {},
   "source": [
    "### Putting everything together\n",
    "Start a loop to perform a set of maneuvers and see the streamed camera frames"
   ]
  },
  {
   "cell_type": "markdown",
   "id": "184c8a94",
   "metadata": {},
   "source": [
    "**<font face=\"Verdana\" style=\"font-size: large\" color=\"blue\">Operate the drone by shooting keyboard commands</font>**"
   ]
  },
  {
   "cell_type": "code",
   "execution_count": null,
   "id": "7599cd29-03cf-4701-8d88-b92011df2071",
   "metadata": {},
   "outputs": [],
   "source": [
    "    # In reality you want to display frames in a seperate thread. Otherwise\n",
    "    #  they will freeze while the drone moves.\n",
    "while True:\n",
    "    img = frame_read.frame\n",
    "    cv2.imshow(\"drone\", img)\n",
    "    key = cv2.waitKey(1) & 0xff\n",
    "    if key == 27: # ESC\n",
    "        break\n",
    "    elif key == ord('w'):\n",
    "        # the object tello has a method \"move_forward\"\n",
    "        tello.move_forward(30)\n",
    "    elif key == ord('s'):\n",
    "        # the object tello also has a method \"move_back\"\n",
    "        tello.move_back(30)\n",
    "    elif key == ord('a'):\n",
    "        # it happens to also have a method \"move_left\"\n",
    "        tello.move_left(30)\n",
    "    elif key == ord('d'):\n",
    "        # it happens to also have a method \"move_right\"\n",
    "        tello.move_right(30)\n",
    "    elif key == ord('e'):\n",
    "        # it can rotate clockwise by calling a method named \"rotate_clockwise\"\n",
    "        tello.rotate_clockwise(30)\n",
    "    elif key == ord('q'):\n",
    "        tello.rotate_counter_clockwise(30)\n",
    "    elif key == ord('r'):\n",
    "        tello.move_up(30)\n",
    "    elif key == ord('f'):\n",
    "        tello.move_down(30)\n",
    "tello.land()"
   ]
  }
 ],
 "metadata": {
  "kernelspec": {
   "display_name": "Python 3 (ipykernel)",
   "language": "python",
   "name": "python3"
  },
  "language_info": {
   "codemirror_mode": {
    "name": "ipython",
    "version": 3
   },
   "file_extension": ".py",
   "mimetype": "text/x-python",
   "name": "python",
   "nbconvert_exporter": "python",
   "pygments_lexer": "ipython3",
   "version": "3.8.18"
  }
 },
 "nbformat": 4,
 "nbformat_minor": 5
}
