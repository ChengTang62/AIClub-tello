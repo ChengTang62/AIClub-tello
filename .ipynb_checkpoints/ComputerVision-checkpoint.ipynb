{
 "cells": [
  {
   "cell_type": "markdown",
   "id": "0f9360b1-db4f-4900-a929-3f83d30231bb",
   "metadata": {},
   "source": [
    "# Computer Vision"
   ]
  },
  {
   "cell_type": "markdown",
   "id": "ba46e223-0cd1-46c9-ba48-a2c35048ae83",
   "metadata": {},
   "source": [
    "Object Detection"
   ]
  },
  {
   "cell_type": "markdown",
   "id": "0057fd1d-30df-48d9-8ae3-8647f0d57397",
   "metadata": {},
   "source": [
    "Gesture Recognition"
   ]
  },
  {
   "cell_type": "markdown",
   "id": "c3ec83aa-0d95-4d0e-8a13-69c2ec453d1b",
   "metadata": {},
   "source": [
    "Face Recognition"
   ]
  },
  {
   "cell_type": "code",
   "execution_count": null,
   "id": "cc8fe37b-216d-4ad5-bba6-87a7ec0e4ad5",
   "metadata": {},
   "outputs": [],
   "source": []
  },
  {
   "cell_type": "markdown",
   "id": "4c3bab05-1ec0-4ffc-9d67-cb472a29fbde",
   "metadata": {},
   "source": [
    "**<font face=\"Verdana\" style=\"font-size: x-large\" color=\"red\">Try it Yourself</font>**"
   ]
  },
  {
   "cell_type": "markdown",
   "id": "c632a68d-e02a-4330-8453-5a4e54b3b8e0",
   "metadata": {},
   "source": [
    "## Train an Object Detection Algorithm"
   ]
  },
  {
   "cell_type": "markdown",
   "id": "d91865e4-1881-4211-9b38-dd4661d573dc",
   "metadata": {},
   "source": [
    "### Collect Dataset"
   ]
  },
  {
   "cell_type": "markdown",
   "id": "e542005a-5bd8-48b7-9719-eebd49135722",
   "metadata": {},
   "source": [
    "### Label Data using Roboflow"
   ]
  },
  {
   "cell_type": "markdown",
   "id": "d78fe250-008c-4d4b-9a03-7961ce317333",
   "metadata": {},
   "source": [
    "### Train the Detection Model"
   ]
  },
  {
   "cell_type": "markdown",
   "id": "8035e2b0-7b15-4a8c-bbfa-103b247fd367",
   "metadata": {},
   "source": [
    "**<font face=\"Verdana\" style=\"font-size: large\" color=\"blue\">Tell the drone to find an object or person</font>**"
   ]
  },
  {
   "cell_type": "code",
   "execution_count": null,
   "id": "cd2f1070-809a-4540-b46d-78d346c34a07",
   "metadata": {},
   "outputs": [],
   "source": []
  }
 ],
 "metadata": {
  "kernelspec": {
   "display_name": "Python 3 (ipykernel)",
   "language": "python",
   "name": "python3"
  },
  "language_info": {
   "codemirror_mode": {
    "name": "ipython",
    "version": 3
   },
   "file_extension": ".py",
   "mimetype": "text/x-python",
   "name": "python",
   "nbconvert_exporter": "python",
   "pygments_lexer": "ipython3",
   "version": "3.8.18"
  }
 },
 "nbformat": 4,
 "nbformat_minor": 5
}
